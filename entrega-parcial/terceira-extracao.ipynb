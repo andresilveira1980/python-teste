{
 "cells": [
  {
   "cell_type": "code",
   "execution_count": null,
   "metadata": {},
   "outputs": [],
   "source": [
    "import pandas             as pd\n",
    "import numpy              as np\n",
    "import matplotlib.pyplot  as plt\n",
    "from plyer import notification \n",
    "from datetime import datetime"
   ]
  }
 ],
 "metadata": {
  "kernelspec": {
   "display_name": "spacy-env",
   "language": "python",
   "name": "python3"
  },
  "language_info": {
   "name": "python",
   "version": "3.10.13"
  }
 },
 "nbformat": 4,
 "nbformat_minor": 2
}
